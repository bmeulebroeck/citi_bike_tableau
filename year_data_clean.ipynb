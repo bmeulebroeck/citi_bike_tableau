{
 "metadata": {
  "language_info": {
   "codemirror_mode": {
    "name": "ipython",
    "version": 3
   },
   "file_extension": ".py",
   "mimetype": "text/x-python",
   "name": "python",
   "nbconvert_exporter": "python",
   "pygments_lexer": "ipython3",
   "version": "3.6.10-final"
  },
  "orig_nbformat": 2,
  "kernelspec": {
   "name": "python3",
   "display_name": "Python 3.6.10 64-bit ('PythonData': conda)",
   "metadata": {
    "interpreter": {
     "hash": "9cef68d50b098ff8683cd471ce6aec783aaec98396724b5ce0443048134bfbd2"
    }
   }
  }
 },
 "nbformat": 4,
 "nbformat_minor": 2,
 "cells": [
  {
   "cell_type": "code",
   "execution_count": 1,
   "metadata": {},
   "outputs": [],
   "source": [
    "import pandas as pd"
   ]
  },
  {
   "cell_type": "code",
   "execution_count": 2,
   "metadata": {},
   "outputs": [
    {
     "output_type": "execute_result",
     "data": {
      "text/plain": [
       "   tripduration                 starttime                  stoptime  \\\n",
       "0           789  2020-01-01 00:00:55.3900  2020-01-01 00:14:05.1470   \n",
       "1          1541  2020-01-01 00:01:08.1020  2020-01-01 00:26:49.1780   \n",
       "2          1464  2020-01-01 00:01:42.1400  2020-01-01 00:26:07.0110   \n",
       "3           592  2020-01-01 00:01:45.5610  2020-01-01 00:11:38.1550   \n",
       "4           702  2020-01-01 00:01:45.7880  2020-01-01 00:13:28.2400   \n",
       "\n",
       "   start station id               start station name  start station latitude  \\\n",
       "0               504                  1 Ave & E 16 St               40.732219   \n",
       "1              3423  West Drive & Prospect Park West               40.661063   \n",
       "2              3687                  E 33 St & 1 Ave               40.743227   \n",
       "3               346              Bank St & Hudson St               40.736529   \n",
       "4               372        Franklin Ave & Myrtle Ave               40.694546   \n",
       "\n",
       "   start station longitude  end station id           end station name  \\\n",
       "0               -73.981656             307      Canal St & Rutgers St   \n",
       "1               -73.979453            3300  Prospect Park West & 8 St   \n",
       "2               -73.974498             259    South St & Whitehall St   \n",
       "3               -74.006180             490            8 Ave & W 33 St   \n",
       "4               -73.958014            3637    Fulton St & Waverly Ave   \n",
       "\n",
       "   end station latitude  end station longitude  bikeid    usertype  \\\n",
       "0             40.714275             -73.989900   30326  Subscriber   \n",
       "1             40.665147             -73.976376   17105    Customer   \n",
       "2             40.701221             -74.012342   40177  Subscriber   \n",
       "3             40.751551             -73.993934   27690  Subscriber   \n",
       "4             40.683239             -73.965996   32583  Subscriber   \n",
       "\n",
       "   birth year  gender  \n",
       "0        1992       1  \n",
       "1        1969       1  \n",
       "2        1963       1  \n",
       "3        1980       1  \n",
       "4        1982       1  "
      ],
      "text/html": "<div>\n<style scoped>\n    .dataframe tbody tr th:only-of-type {\n        vertical-align: middle;\n    }\n\n    .dataframe tbody tr th {\n        vertical-align: top;\n    }\n\n    .dataframe thead th {\n        text-align: right;\n    }\n</style>\n<table border=\"1\" class=\"dataframe\">\n  <thead>\n    <tr style=\"text-align: right;\">\n      <th></th>\n      <th>tripduration</th>\n      <th>starttime</th>\n      <th>stoptime</th>\n      <th>start station id</th>\n      <th>start station name</th>\n      <th>start station latitude</th>\n      <th>start station longitude</th>\n      <th>end station id</th>\n      <th>end station name</th>\n      <th>end station latitude</th>\n      <th>end station longitude</th>\n      <th>bikeid</th>\n      <th>usertype</th>\n      <th>birth year</th>\n      <th>gender</th>\n    </tr>\n  </thead>\n  <tbody>\n    <tr>\n      <th>0</th>\n      <td>789</td>\n      <td>2020-01-01 00:00:55.3900</td>\n      <td>2020-01-01 00:14:05.1470</td>\n      <td>504</td>\n      <td>1 Ave &amp; E 16 St</td>\n      <td>40.732219</td>\n      <td>-73.981656</td>\n      <td>307</td>\n      <td>Canal St &amp; Rutgers St</td>\n      <td>40.714275</td>\n      <td>-73.989900</td>\n      <td>30326</td>\n      <td>Subscriber</td>\n      <td>1992</td>\n      <td>1</td>\n    </tr>\n    <tr>\n      <th>1</th>\n      <td>1541</td>\n      <td>2020-01-01 00:01:08.1020</td>\n      <td>2020-01-01 00:26:49.1780</td>\n      <td>3423</td>\n      <td>West Drive &amp; Prospect Park West</td>\n      <td>40.661063</td>\n      <td>-73.979453</td>\n      <td>3300</td>\n      <td>Prospect Park West &amp; 8 St</td>\n      <td>40.665147</td>\n      <td>-73.976376</td>\n      <td>17105</td>\n      <td>Customer</td>\n      <td>1969</td>\n      <td>1</td>\n    </tr>\n    <tr>\n      <th>2</th>\n      <td>1464</td>\n      <td>2020-01-01 00:01:42.1400</td>\n      <td>2020-01-01 00:26:07.0110</td>\n      <td>3687</td>\n      <td>E 33 St &amp; 1 Ave</td>\n      <td>40.743227</td>\n      <td>-73.974498</td>\n      <td>259</td>\n      <td>South St &amp; Whitehall St</td>\n      <td>40.701221</td>\n      <td>-74.012342</td>\n      <td>40177</td>\n      <td>Subscriber</td>\n      <td>1963</td>\n      <td>1</td>\n    </tr>\n    <tr>\n      <th>3</th>\n      <td>592</td>\n      <td>2020-01-01 00:01:45.5610</td>\n      <td>2020-01-01 00:11:38.1550</td>\n      <td>346</td>\n      <td>Bank St &amp; Hudson St</td>\n      <td>40.736529</td>\n      <td>-74.006180</td>\n      <td>490</td>\n      <td>8 Ave &amp; W 33 St</td>\n      <td>40.751551</td>\n      <td>-73.993934</td>\n      <td>27690</td>\n      <td>Subscriber</td>\n      <td>1980</td>\n      <td>1</td>\n    </tr>\n    <tr>\n      <th>4</th>\n      <td>702</td>\n      <td>2020-01-01 00:01:45.7880</td>\n      <td>2020-01-01 00:13:28.2400</td>\n      <td>372</td>\n      <td>Franklin Ave &amp; Myrtle Ave</td>\n      <td>40.694546</td>\n      <td>-73.958014</td>\n      <td>3637</td>\n      <td>Fulton St &amp; Waverly Ave</td>\n      <td>40.683239</td>\n      <td>-73.965996</td>\n      <td>32583</td>\n      <td>Subscriber</td>\n      <td>1982</td>\n      <td>1</td>\n    </tr>\n  </tbody>\n</table>\n</div>"
     },
     "metadata": {},
     "execution_count": 2
    }
   ],
   "source": [
    "citi_2020_full = pd.read_csv(\"extracted_data/2020/2020_comb.csv\")\n",
    "citi_2020_full.head()"
   ]
  },
  {
   "cell_type": "code",
   "execution_count": 3,
   "metadata": {},
   "outputs": [
    {
     "output_type": "execute_result",
     "data": {
      "text/plain": [
       "          tripduration                 starttime                  stoptime  \\\n",
       "0                  789  2020-01-01 00:00:55.3900  2020-01-01 00:14:05.1470   \n",
       "1                 1541  2020-01-01 00:01:08.1020  2020-01-01 00:26:49.1780   \n",
       "2                 1464  2020-01-01 00:01:42.1400  2020-01-01 00:26:07.0110   \n",
       "3                  592  2020-01-01 00:01:45.5610  2020-01-01 00:11:38.1550   \n",
       "4                  702  2020-01-01 00:01:45.7880  2020-01-01 00:13:28.2400   \n",
       "...                ...                       ...                       ...   \n",
       "19506852          2045  2020-12-31 23:58:21.7040  2021-01-01 00:32:27.1570   \n",
       "19506853           288  2020-12-31 23:58:37.8400  2021-01-01 00:03:26.3250   \n",
       "19506854           152  2020-12-31 23:58:52.8090  2021-01-01 00:01:25.6720   \n",
       "19506855           654  2020-12-31 23:59:55.9550  2021-01-01 00:10:50.6050   \n",
       "19506856          2589  2020-12-31 23:59:57.4070  2021-01-01 00:43:06.4490   \n",
       "\n",
       "          start station id  end station id  bikeid    usertype  birth year  \\\n",
       "0                      504             307   30326  Subscriber        1992   \n",
       "1                     3423            3300   17105    Customer        1969   \n",
       "2                     3687             259   40177  Subscriber        1963   \n",
       "3                      346             490   27690  Subscriber        1980   \n",
       "4                      372            3637   32583  Subscriber        1982   \n",
       "...                    ...             ...     ...         ...         ...   \n",
       "19506852               526            3614   36467  Subscriber        1994   \n",
       "19506853              3307            3383   47749  Subscriber        1969   \n",
       "19506854              3510            3518   48691    Customer        1969   \n",
       "19506855              4073             500   49564  Subscriber        1994   \n",
       "19506856              3581            3581   47364    Customer        1969   \n",
       "\n",
       "          gender  \n",
       "0              1  \n",
       "1              1  \n",
       "2              1  \n",
       "3              1  \n",
       "4              1  \n",
       "...          ...  \n",
       "19506852       1  \n",
       "19506853       0  \n",
       "19506854       0  \n",
       "19506855       1  \n",
       "19506856       0  \n",
       "\n",
       "[19506857 rows x 9 columns]"
      ],
      "text/html": "<div>\n<style scoped>\n    .dataframe tbody tr th:only-of-type {\n        vertical-align: middle;\n    }\n\n    .dataframe tbody tr th {\n        vertical-align: top;\n    }\n\n    .dataframe thead th {\n        text-align: right;\n    }\n</style>\n<table border=\"1\" class=\"dataframe\">\n  <thead>\n    <tr style=\"text-align: right;\">\n      <th></th>\n      <th>tripduration</th>\n      <th>starttime</th>\n      <th>stoptime</th>\n      <th>start station id</th>\n      <th>end station id</th>\n      <th>bikeid</th>\n      <th>usertype</th>\n      <th>birth year</th>\n      <th>gender</th>\n    </tr>\n  </thead>\n  <tbody>\n    <tr>\n      <th>0</th>\n      <td>789</td>\n      <td>2020-01-01 00:00:55.3900</td>\n      <td>2020-01-01 00:14:05.1470</td>\n      <td>504</td>\n      <td>307</td>\n      <td>30326</td>\n      <td>Subscriber</td>\n      <td>1992</td>\n      <td>1</td>\n    </tr>\n    <tr>\n      <th>1</th>\n      <td>1541</td>\n      <td>2020-01-01 00:01:08.1020</td>\n      <td>2020-01-01 00:26:49.1780</td>\n      <td>3423</td>\n      <td>3300</td>\n      <td>17105</td>\n      <td>Customer</td>\n      <td>1969</td>\n      <td>1</td>\n    </tr>\n    <tr>\n      <th>2</th>\n      <td>1464</td>\n      <td>2020-01-01 00:01:42.1400</td>\n      <td>2020-01-01 00:26:07.0110</td>\n      <td>3687</td>\n      <td>259</td>\n      <td>40177</td>\n      <td>Subscriber</td>\n      <td>1963</td>\n      <td>1</td>\n    </tr>\n    <tr>\n      <th>3</th>\n      <td>592</td>\n      <td>2020-01-01 00:01:45.5610</td>\n      <td>2020-01-01 00:11:38.1550</td>\n      <td>346</td>\n      <td>490</td>\n      <td>27690</td>\n      <td>Subscriber</td>\n      <td>1980</td>\n      <td>1</td>\n    </tr>\n    <tr>\n      <th>4</th>\n      <td>702</td>\n      <td>2020-01-01 00:01:45.7880</td>\n      <td>2020-01-01 00:13:28.2400</td>\n      <td>372</td>\n      <td>3637</td>\n      <td>32583</td>\n      <td>Subscriber</td>\n      <td>1982</td>\n      <td>1</td>\n    </tr>\n    <tr>\n      <th>...</th>\n      <td>...</td>\n      <td>...</td>\n      <td>...</td>\n      <td>...</td>\n      <td>...</td>\n      <td>...</td>\n      <td>...</td>\n      <td>...</td>\n      <td>...</td>\n    </tr>\n    <tr>\n      <th>19506852</th>\n      <td>2045</td>\n      <td>2020-12-31 23:58:21.7040</td>\n      <td>2021-01-01 00:32:27.1570</td>\n      <td>526</td>\n      <td>3614</td>\n      <td>36467</td>\n      <td>Subscriber</td>\n      <td>1994</td>\n      <td>1</td>\n    </tr>\n    <tr>\n      <th>19506853</th>\n      <td>288</td>\n      <td>2020-12-31 23:58:37.8400</td>\n      <td>2021-01-01 00:03:26.3250</td>\n      <td>3307</td>\n      <td>3383</td>\n      <td>47749</td>\n      <td>Subscriber</td>\n      <td>1969</td>\n      <td>0</td>\n    </tr>\n    <tr>\n      <th>19506854</th>\n      <td>152</td>\n      <td>2020-12-31 23:58:52.8090</td>\n      <td>2021-01-01 00:01:25.6720</td>\n      <td>3510</td>\n      <td>3518</td>\n      <td>48691</td>\n      <td>Customer</td>\n      <td>1969</td>\n      <td>0</td>\n    </tr>\n    <tr>\n      <th>19506855</th>\n      <td>654</td>\n      <td>2020-12-31 23:59:55.9550</td>\n      <td>2021-01-01 00:10:50.6050</td>\n      <td>4073</td>\n      <td>500</td>\n      <td>49564</td>\n      <td>Subscriber</td>\n      <td>1994</td>\n      <td>1</td>\n    </tr>\n    <tr>\n      <th>19506856</th>\n      <td>2589</td>\n      <td>2020-12-31 23:59:57.4070</td>\n      <td>2021-01-01 00:43:06.4490</td>\n      <td>3581</td>\n      <td>3581</td>\n      <td>47364</td>\n      <td>Customer</td>\n      <td>1969</td>\n      <td>0</td>\n    </tr>\n  </tbody>\n</table>\n<p>19506857 rows × 9 columns</p>\n</div>"
     },
     "metadata": {},
     "execution_count": 3
    }
   ],
   "source": [
    "citi_2020_rides = citi_2020_full.iloc[:, [0,1,2,3,7,11,12,13,14]]\n",
    "citi_2020_rides"
   ]
  },
  {
   "cell_type": "code",
   "execution_count": 5,
   "metadata": {},
   "outputs": [
    {
     "output_type": "execute_result",
     "data": {
      "text/plain": [
       "tripduration         int64\n",
       "starttime           object\n",
       "stoptime            object\n",
       "start station id     int64\n",
       "end station id       int64\n",
       "bikeid               int64\n",
       "usertype            object\n",
       "birth year           int64\n",
       "gender               int64\n",
       "dtype: object"
      ]
     },
     "metadata": {},
     "execution_count": 5
    }
   ],
   "source": [
    "citi_2020_rides.dtypes"
   ]
  },
  {
   "cell_type": "code",
   "execution_count": 8,
   "metadata": {},
   "outputs": [],
   "source": [
    "citi_2020_rides.to_csv('data/rides_2020.csv', index=False)"
   ]
  },
  {
   "cell_type": "code",
   "execution_count": null,
   "metadata": {},
   "outputs": [],
   "source": []
  }
 ]
}
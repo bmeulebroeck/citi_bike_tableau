{
 "metadata": {
  "language_info": {
   "codemirror_mode": {
    "name": "ipython",
    "version": 3
   },
   "file_extension": ".py",
   "mimetype": "text/x-python",
   "name": "python",
   "nbconvert_exporter": "python",
   "pygments_lexer": "ipython3",
   "version": "3.6.10"
  },
  "orig_nbformat": 2,
  "kernelspec": {
   "name": "python3",
   "display_name": "Python 3.6.10 64-bit ('PythonData': conda)",
   "metadata": {
    "interpreter": {
     "hash": "9cef68d50b098ff8683cd471ce6aec783aaec98396724b5ce0443048134bfbd2"
    }
   }
  }
 },
 "nbformat": 4,
 "nbformat_minor": 2,
 "cells": [
  {
   "cell_type": "code",
   "execution_count": 1,
   "metadata": {},
   "outputs": [],
   "source": [
    "import pandas as pd\n",
    "import scipy.stats as stats\n",
    "import numpy as np\n"
   ]
  },
  {
   "cell_type": "code",
   "execution_count": 2,
   "metadata": {},
   "outputs": [
    {
     "output_type": "execute_result",
     "data": {
      "text/plain": [
       "   tripduration                 starttime                  stoptime  \\\n",
       "0           970  2018-01-01 13:50:57.4340  2018-01-01 14:07:08.1860   \n",
       "1           723  2018-01-01 15:33:30.1820  2018-01-01 15:45:33.3410   \n",
       "2           496  2018-01-01 15:39:18.3370  2018-01-01 15:47:35.1720   \n",
       "3           306  2018-01-01 15:40:13.3720  2018-01-01 15:45:20.1910   \n",
       "4           306  2018-01-01 18:14:51.5680  2018-01-01 18:19:57.6420   \n",
       "\n",
       "   start station id start station name  start station latitude  \\\n",
       "0              72.0   W 52 St & 11 Ave               40.767272   \n",
       "1              72.0   W 52 St & 11 Ave               40.767272   \n",
       "2              72.0   W 52 St & 11 Ave               40.767272   \n",
       "3              72.0   W 52 St & 11 Ave               40.767272   \n",
       "4              72.0   W 52 St & 11 Ave               40.767272   \n",
       "\n",
       "   start station longitude  end station id         end station name  \\\n",
       "0               -73.993929           505.0          6 Ave & W 33 St   \n",
       "1               -73.993929          3255.0          8 Ave & W 31 St   \n",
       "2               -73.993929           525.0         W 34 St & 11 Ave   \n",
       "3               -73.993929           447.0          8 Ave & W 52 St   \n",
       "4               -73.993929          3356.0  Amsterdam Ave & W 66 St   \n",
       "\n",
       "   end station latitude  end station longitude  bikeid    usertype  \\\n",
       "0             40.749013             -73.988484   31956  Subscriber   \n",
       "1             40.750585             -73.994685   32536  Subscriber   \n",
       "2             40.755942             -74.002116   16069  Subscriber   \n",
       "3             40.763707             -73.985162   31781  Subscriber   \n",
       "4             40.774667             -73.984706   30319  Subscriber   \n",
       "\n",
       "   birth year  gender  \n",
       "0        1992       1  \n",
       "1        1969       1  \n",
       "2        1956       1  \n",
       "3        1974       1  \n",
       "4        1992       1  "
      ],
      "text/html": "<div>\n<style scoped>\n    .dataframe tbody tr th:only-of-type {\n        vertical-align: middle;\n    }\n\n    .dataframe tbody tr th {\n        vertical-align: top;\n    }\n\n    .dataframe thead th {\n        text-align: right;\n    }\n</style>\n<table border=\"1\" class=\"dataframe\">\n  <thead>\n    <tr style=\"text-align: right;\">\n      <th></th>\n      <th>tripduration</th>\n      <th>starttime</th>\n      <th>stoptime</th>\n      <th>start station id</th>\n      <th>start station name</th>\n      <th>start station latitude</th>\n      <th>start station longitude</th>\n      <th>end station id</th>\n      <th>end station name</th>\n      <th>end station latitude</th>\n      <th>end station longitude</th>\n      <th>bikeid</th>\n      <th>usertype</th>\n      <th>birth year</th>\n      <th>gender</th>\n    </tr>\n  </thead>\n  <tbody>\n    <tr>\n      <th>0</th>\n      <td>970</td>\n      <td>2018-01-01 13:50:57.4340</td>\n      <td>2018-01-01 14:07:08.1860</td>\n      <td>72.0</td>\n      <td>W 52 St &amp; 11 Ave</td>\n      <td>40.767272</td>\n      <td>-73.993929</td>\n      <td>505.0</td>\n      <td>6 Ave &amp; W 33 St</td>\n      <td>40.749013</td>\n      <td>-73.988484</td>\n      <td>31956</td>\n      <td>Subscriber</td>\n      <td>1992</td>\n      <td>1</td>\n    </tr>\n    <tr>\n      <th>1</th>\n      <td>723</td>\n      <td>2018-01-01 15:33:30.1820</td>\n      <td>2018-01-01 15:45:33.3410</td>\n      <td>72.0</td>\n      <td>W 52 St &amp; 11 Ave</td>\n      <td>40.767272</td>\n      <td>-73.993929</td>\n      <td>3255.0</td>\n      <td>8 Ave &amp; W 31 St</td>\n      <td>40.750585</td>\n      <td>-73.994685</td>\n      <td>32536</td>\n      <td>Subscriber</td>\n      <td>1969</td>\n      <td>1</td>\n    </tr>\n    <tr>\n      <th>2</th>\n      <td>496</td>\n      <td>2018-01-01 15:39:18.3370</td>\n      <td>2018-01-01 15:47:35.1720</td>\n      <td>72.0</td>\n      <td>W 52 St &amp; 11 Ave</td>\n      <td>40.767272</td>\n      <td>-73.993929</td>\n      <td>525.0</td>\n      <td>W 34 St &amp; 11 Ave</td>\n      <td>40.755942</td>\n      <td>-74.002116</td>\n      <td>16069</td>\n      <td>Subscriber</td>\n      <td>1956</td>\n      <td>1</td>\n    </tr>\n    <tr>\n      <th>3</th>\n      <td>306</td>\n      <td>2018-01-01 15:40:13.3720</td>\n      <td>2018-01-01 15:45:20.1910</td>\n      <td>72.0</td>\n      <td>W 52 St &amp; 11 Ave</td>\n      <td>40.767272</td>\n      <td>-73.993929</td>\n      <td>447.0</td>\n      <td>8 Ave &amp; W 52 St</td>\n      <td>40.763707</td>\n      <td>-73.985162</td>\n      <td>31781</td>\n      <td>Subscriber</td>\n      <td>1974</td>\n      <td>1</td>\n    </tr>\n    <tr>\n      <th>4</th>\n      <td>306</td>\n      <td>2018-01-01 18:14:51.5680</td>\n      <td>2018-01-01 18:19:57.6420</td>\n      <td>72.0</td>\n      <td>W 52 St &amp; 11 Ave</td>\n      <td>40.767272</td>\n      <td>-73.993929</td>\n      <td>3356.0</td>\n      <td>Amsterdam Ave &amp; W 66 St</td>\n      <td>40.774667</td>\n      <td>-73.984706</td>\n      <td>30319</td>\n      <td>Subscriber</td>\n      <td>1992</td>\n      <td>1</td>\n    </tr>\n  </tbody>\n</table>\n</div>"
     },
     "metadata": {},
     "execution_count": 2
    }
   ],
   "source": [
    "citi_2018_path = \"data/2018/2018_comb.csv\"\n",
    "\n",
    "citi_2018_full = pd.read_csv(citi_2018_path)\n",
    "citi_2018_full.head()"
   ]
  },
  {
   "cell_type": "code",
   "execution_count": 3,
   "metadata": {},
   "outputs": [
    {
     "output_type": "execute_result",
     "data": {
      "text/plain": [
       "819"
      ]
     },
     "metadata": {},
     "execution_count": 3
    }
   ],
   "source": [
    "start_station_ct = len(citi_2018_full['start station id'].unique())\n",
    "start_station_ct"
   ]
  },
  {
   "cell_type": "code",
   "execution_count": 4,
   "metadata": {},
   "outputs": [
    {
     "output_type": "execute_result",
     "data": {
      "text/plain": [
       "851"
      ]
     },
     "metadata": {},
     "execution_count": 4
    }
   ],
   "source": [
    "end_station_ct = len(citi_2018_full['end station id'].unique())\n",
    "end_station_ct"
   ]
  },
  {
   "cell_type": "code",
   "execution_count": 5,
   "metadata": {},
   "outputs": [
    {
     "output_type": "execute_result",
     "data": {
      "text/plain": [
       "   start station id start station name  start station latitude  \\\n",
       "0              72.0   W 52 St & 11 Ave               40.767272   \n",
       "1              72.0   W 52 St & 11 Ave               40.767272   \n",
       "2              72.0   W 52 St & 11 Ave               40.767272   \n",
       "3              72.0   W 52 St & 11 Ave               40.767272   \n",
       "4              72.0   W 52 St & 11 Ave               40.767272   \n",
       "\n",
       "   start station longitude  end station id         end station name  \\\n",
       "0               -73.993929           505.0          6 Ave & W 33 St   \n",
       "1               -73.993929          3255.0          8 Ave & W 31 St   \n",
       "2               -73.993929           525.0         W 34 St & 11 Ave   \n",
       "3               -73.993929           447.0          8 Ave & W 52 St   \n",
       "4               -73.993929          3356.0  Amsterdam Ave & W 66 St   \n",
       "\n",
       "   end station latitude  end station longitude  \n",
       "0             40.749013             -73.988484  \n",
       "1             40.750585             -73.994685  \n",
       "2             40.755942             -74.002116  \n",
       "3             40.763707             -73.985162  \n",
       "4             40.774667             -73.984706  "
      ],
      "text/html": "<div>\n<style scoped>\n    .dataframe tbody tr th:only-of-type {\n        vertical-align: middle;\n    }\n\n    .dataframe tbody tr th {\n        vertical-align: top;\n    }\n\n    .dataframe thead th {\n        text-align: right;\n    }\n</style>\n<table border=\"1\" class=\"dataframe\">\n  <thead>\n    <tr style=\"text-align: right;\">\n      <th></th>\n      <th>start station id</th>\n      <th>start station name</th>\n      <th>start station latitude</th>\n      <th>start station longitude</th>\n      <th>end station id</th>\n      <th>end station name</th>\n      <th>end station latitude</th>\n      <th>end station longitude</th>\n    </tr>\n  </thead>\n  <tbody>\n    <tr>\n      <th>0</th>\n      <td>72.0</td>\n      <td>W 52 St &amp; 11 Ave</td>\n      <td>40.767272</td>\n      <td>-73.993929</td>\n      <td>505.0</td>\n      <td>6 Ave &amp; W 33 St</td>\n      <td>40.749013</td>\n      <td>-73.988484</td>\n    </tr>\n    <tr>\n      <th>1</th>\n      <td>72.0</td>\n      <td>W 52 St &amp; 11 Ave</td>\n      <td>40.767272</td>\n      <td>-73.993929</td>\n      <td>3255.0</td>\n      <td>8 Ave &amp; W 31 St</td>\n      <td>40.750585</td>\n      <td>-73.994685</td>\n    </tr>\n    <tr>\n      <th>2</th>\n      <td>72.0</td>\n      <td>W 52 St &amp; 11 Ave</td>\n      <td>40.767272</td>\n      <td>-73.993929</td>\n      <td>525.0</td>\n      <td>W 34 St &amp; 11 Ave</td>\n      <td>40.755942</td>\n      <td>-74.002116</td>\n    </tr>\n    <tr>\n      <th>3</th>\n      <td>72.0</td>\n      <td>W 52 St &amp; 11 Ave</td>\n      <td>40.767272</td>\n      <td>-73.993929</td>\n      <td>447.0</td>\n      <td>8 Ave &amp; W 52 St</td>\n      <td>40.763707</td>\n      <td>-73.985162</td>\n    </tr>\n    <tr>\n      <th>4</th>\n      <td>72.0</td>\n      <td>W 52 St &amp; 11 Ave</td>\n      <td>40.767272</td>\n      <td>-73.993929</td>\n      <td>3356.0</td>\n      <td>Amsterdam Ave &amp; W 66 St</td>\n      <td>40.774667</td>\n      <td>-73.984706</td>\n    </tr>\n  </tbody>\n</table>\n</div>"
     },
     "metadata": {},
     "execution_count": 5
    }
   ],
   "source": [
    "station_info = citi_2018_full.iloc[:,[3,4,5,6,7,8,9,10]]\n",
    "station_info.head()"
   ]
  },
  {
   "cell_type": "code",
   "execution_count": 6,
   "metadata": {},
   "outputs": [
    {
     "output_type": "execute_result",
     "data": {
      "text/plain": [
       "          start station id            start station name  \\\n",
       "0                     72.0              W 52 St & 11 Ave   \n",
       "1                     72.0              W 52 St & 11 Ave   \n",
       "2                     72.0              W 52 St & 11 Ave   \n",
       "3                     72.0              W 52 St & 11 Ave   \n",
       "4                     72.0              W 52 St & 11 Ave   \n",
       "...                    ...                           ...   \n",
       "16180312             448.0              W 37 St & 10 Ave   \n",
       "16704227             285.0            Broadway & E 14 St   \n",
       "16813724             420.0  Clermont Ave & Lafayette Ave   \n",
       "17039630            3573.0                35 St & 34 Ave   \n",
       "17049123            3411.0           Bond St & Bergen St   \n",
       "\n",
       "          start station latitude  start station longitude  end station id  \\\n",
       "0                      40.767272               -73.993929           505.0   \n",
       "1                      40.767272               -73.993929          3255.0   \n",
       "2                      40.767272               -73.993929           525.0   \n",
       "3                      40.767272               -73.993929           447.0   \n",
       "4                      40.767272               -73.993929          3356.0   \n",
       "...                          ...                      ...             ...   \n",
       "16180312               40.756604               -73.997901          3279.0   \n",
       "16704227               40.734546               -73.990741          3718.0   \n",
       "16813724               40.687645               -73.969689          3719.0   \n",
       "17039630               40.758058               -73.924275          3721.0   \n",
       "17049123               40.684967               -73.986208          3720.0   \n",
       "\n",
       "                       end station name  end station latitude  \\\n",
       "0                       6 Ave & W 33 St             40.749013   \n",
       "1                       8 Ave & W 31 St             40.750585   \n",
       "2                      W 34 St & 11 Ave             40.755942   \n",
       "3                       8 Ave & W 52 St             40.763707   \n",
       "4               Amsterdam Ave & W 66 St             40.774667   \n",
       "...                                 ...                   ...   \n",
       "16180312                    Dixon Mills             40.721630   \n",
       "16704227             E 11 St & Avenue B             40.727464   \n",
       "16813724  S Portland Ave & Atlantic Ave             40.683223   \n",
       "17039630            31 St & Newtown Ave             40.767549   \n",
       "17049123           Wyckoff St & Bond St             40.684617   \n",
       "\n",
       "          end station longitude  \n",
       "0                    -73.988484  \n",
       "1                    -73.994685  \n",
       "2                    -74.002116  \n",
       "3                    -73.985162  \n",
       "4                    -73.984706  \n",
       "...                         ...  \n",
       "16180312             -74.049968  \n",
       "16704227             -73.979504  \n",
       "16813724             -73.973812  \n",
       "17039630             -73.920933  \n",
       "17049123             -73.987213  \n",
       "\n",
       "[851 rows x 8 columns]"
      ],
      "text/html": "<div>\n<style scoped>\n    .dataframe tbody tr th:only-of-type {\n        vertical-align: middle;\n    }\n\n    .dataframe tbody tr th {\n        vertical-align: top;\n    }\n\n    .dataframe thead th {\n        text-align: right;\n    }\n</style>\n<table border=\"1\" class=\"dataframe\">\n  <thead>\n    <tr style=\"text-align: right;\">\n      <th></th>\n      <th>start station id</th>\n      <th>start station name</th>\n      <th>start station latitude</th>\n      <th>start station longitude</th>\n      <th>end station id</th>\n      <th>end station name</th>\n      <th>end station latitude</th>\n      <th>end station longitude</th>\n    </tr>\n  </thead>\n  <tbody>\n    <tr>\n      <th>0</th>\n      <td>72.0</td>\n      <td>W 52 St &amp; 11 Ave</td>\n      <td>40.767272</td>\n      <td>-73.993929</td>\n      <td>505.0</td>\n      <td>6 Ave &amp; W 33 St</td>\n      <td>40.749013</td>\n      <td>-73.988484</td>\n    </tr>\n    <tr>\n      <th>1</th>\n      <td>72.0</td>\n      <td>W 52 St &amp; 11 Ave</td>\n      <td>40.767272</td>\n      <td>-73.993929</td>\n      <td>3255.0</td>\n      <td>8 Ave &amp; W 31 St</td>\n      <td>40.750585</td>\n      <td>-73.994685</td>\n    </tr>\n    <tr>\n      <th>2</th>\n      <td>72.0</td>\n      <td>W 52 St &amp; 11 Ave</td>\n      <td>40.767272</td>\n      <td>-73.993929</td>\n      <td>525.0</td>\n      <td>W 34 St &amp; 11 Ave</td>\n      <td>40.755942</td>\n      <td>-74.002116</td>\n    </tr>\n    <tr>\n      <th>3</th>\n      <td>72.0</td>\n      <td>W 52 St &amp; 11 Ave</td>\n      <td>40.767272</td>\n      <td>-73.993929</td>\n      <td>447.0</td>\n      <td>8 Ave &amp; W 52 St</td>\n      <td>40.763707</td>\n      <td>-73.985162</td>\n    </tr>\n    <tr>\n      <th>4</th>\n      <td>72.0</td>\n      <td>W 52 St &amp; 11 Ave</td>\n      <td>40.767272</td>\n      <td>-73.993929</td>\n      <td>3356.0</td>\n      <td>Amsterdam Ave &amp; W 66 St</td>\n      <td>40.774667</td>\n      <td>-73.984706</td>\n    </tr>\n    <tr>\n      <th>...</th>\n      <td>...</td>\n      <td>...</td>\n      <td>...</td>\n      <td>...</td>\n      <td>...</td>\n      <td>...</td>\n      <td>...</td>\n      <td>...</td>\n    </tr>\n    <tr>\n      <th>16180312</th>\n      <td>448.0</td>\n      <td>W 37 St &amp; 10 Ave</td>\n      <td>40.756604</td>\n      <td>-73.997901</td>\n      <td>3279.0</td>\n      <td>Dixon Mills</td>\n      <td>40.721630</td>\n      <td>-74.049968</td>\n    </tr>\n    <tr>\n      <th>16704227</th>\n      <td>285.0</td>\n      <td>Broadway &amp; E 14 St</td>\n      <td>40.734546</td>\n      <td>-73.990741</td>\n      <td>3718.0</td>\n      <td>E 11 St &amp; Avenue B</td>\n      <td>40.727464</td>\n      <td>-73.979504</td>\n    </tr>\n    <tr>\n      <th>16813724</th>\n      <td>420.0</td>\n      <td>Clermont Ave &amp; Lafayette Ave</td>\n      <td>40.687645</td>\n      <td>-73.969689</td>\n      <td>3719.0</td>\n      <td>S Portland Ave &amp; Atlantic Ave</td>\n      <td>40.683223</td>\n      <td>-73.973812</td>\n    </tr>\n    <tr>\n      <th>17039630</th>\n      <td>3573.0</td>\n      <td>35 St &amp; 34 Ave</td>\n      <td>40.758058</td>\n      <td>-73.924275</td>\n      <td>3721.0</td>\n      <td>31 St &amp; Newtown Ave</td>\n      <td>40.767549</td>\n      <td>-73.920933</td>\n    </tr>\n    <tr>\n      <th>17049123</th>\n      <td>3411.0</td>\n      <td>Bond St &amp; Bergen St</td>\n      <td>40.684967</td>\n      <td>-73.986208</td>\n      <td>3720.0</td>\n      <td>Wyckoff St &amp; Bond St</td>\n      <td>40.684617</td>\n      <td>-73.987213</td>\n    </tr>\n  </tbody>\n</table>\n<p>851 rows × 8 columns</p>\n</div>"
     },
     "metadata": {},
     "execution_count": 6
    }
   ],
   "source": [
    "unique_stations = station_info.drop_duplicates(subset=\"end station id\", keep='first', inplace=False)\n",
    "unique_stations"
   ]
  },
  {
   "cell_type": "code",
   "execution_count": 7,
   "metadata": {},
   "outputs": [],
   "source": [
    "unique_stations.to_csv(\"data/2018/unique_stations.csv\", index=False)"
   ]
  },
  {
   "cell_type": "code",
   "execution_count": null,
   "metadata": {},
   "outputs": [],
   "source": []
  }
 ]
}
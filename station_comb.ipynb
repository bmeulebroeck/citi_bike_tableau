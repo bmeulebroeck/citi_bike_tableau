{
 "metadata": {
  "language_info": {
   "codemirror_mode": {
    "name": "ipython",
    "version": 3
   },
   "file_extension": ".py",
   "mimetype": "text/x-python",
   "name": "python",
   "nbconvert_exporter": "python",
   "pygments_lexer": "ipython3",
   "version": "3.6.10"
  },
  "orig_nbformat": 2,
  "kernelspec": {
   "name": "python3",
   "display_name": "Python 3.6.10 64-bit ('PythonData': conda)",
   "metadata": {
    "interpreter": {
     "hash": "9cef68d50b098ff8683cd471ce6aec783aaec98396724b5ce0443048134bfbd2"
    }
   }
  }
 },
 "nbformat": 4,
 "nbformat_minor": 2,
 "cells": [
  {
   "cell_type": "code",
   "execution_count": 2,
   "metadata": {},
   "outputs": [],
   "source": [
    "import pandas as pd"
   ]
  },
  {
   "cell_type": "code",
   "execution_count": 3,
   "metadata": {},
   "outputs": [],
   "source": [
    "stations_2018 = pd.read_csv(\"data/2018/2018_unique_stations.csv\")\n",
    "stations_2019 = pd.read_csv(\"data/2019/2019_unique_stations.csv\")\n",
    "stations_2020 = pd.read_csv(\"data/2020/2020_unique_stations.csv\")"
   ]
  },
  {
   "cell_type": "code",
   "execution_count": 4,
   "metadata": {},
   "outputs": [
    {
     "output_type": "execute_result",
     "data": {
      "text/plain": [
       "      start station id               start station name  \\\n",
       "0                 72.0                 W 52 St & 11 Ave   \n",
       "1                 72.0                 W 52 St & 11 Ave   \n",
       "2                 72.0                 W 52 St & 11 Ave   \n",
       "3                 72.0                 W 52 St & 11 Ave   \n",
       "4                 72.0                 W 52 St & 11 Ave   \n",
       "...                ...                              ...   \n",
       "1244            4203.0  Westchester Ave & Southern Blvd   \n",
       "1245            3572.0                   34 Ave & 38 St   \n",
       "1246            3518.0             Lenox Ave & W 126 St   \n",
       "1247            3605.0             31 Ave & Crescent St   \n",
       "1248            4128.0           College Ave & E 170 St   \n",
       "\n",
       "      start station latitude  start station longitude  end station id  \\\n",
       "0                  40.767272               -73.993929           505.0   \n",
       "1                  40.767272               -73.993929          3255.0   \n",
       "2                  40.767272               -73.993929           525.0   \n",
       "3                  40.767272               -73.993929           447.0   \n",
       "4                  40.767272               -73.993929          3356.0   \n",
       "...                      ...                      ...             ...   \n",
       "1244               40.824956               -73.891677          4184.0   \n",
       "1245               40.756913               -73.921631          4306.0   \n",
       "1246               40.808442               -73.945209          4328.0   \n",
       "1247               40.765835               -73.926547          4310.0   \n",
       "1248               40.837576               -73.910489          4332.0   \n",
       "\n",
       "                 end station name  end station latitude  end station longitude  \n",
       "0                 6 Ave & W 33 St             40.749013             -73.988484  \n",
       "1                 8 Ave & W 31 St             40.750585             -73.994685  \n",
       "2                W 34 St & 11 Ave             40.755942             -74.002116  \n",
       "3                 8 Ave & W 52 St             40.763707             -73.985162  \n",
       "4         Amsterdam Ave & W 66 St             40.774667             -73.984706  \n",
       "...                           ...                   ...                    ...  \n",
       "1244     Southern Blvd & E 174 St             40.836733             -73.887931  \n",
       "1245               35 St & 23 Ave             40.773015             -73.911190  \n",
       "1246  W 167 St & St. Nicholas Ave             40.840124             -73.939490  \n",
       "1247               24 St & 38 Ave             40.756351             -73.936515  \n",
       "1248        Morris Ave & E 163 St             40.827230             -73.917656  \n",
       "\n",
       "[3074 rows x 8 columns]"
      ],
      "text/html": "<div>\n<style scoped>\n    .dataframe tbody tr th:only-of-type {\n        vertical-align: middle;\n    }\n\n    .dataframe tbody tr th {\n        vertical-align: top;\n    }\n\n    .dataframe thead th {\n        text-align: right;\n    }\n</style>\n<table border=\"1\" class=\"dataframe\">\n  <thead>\n    <tr style=\"text-align: right;\">\n      <th></th>\n      <th>start station id</th>\n      <th>start station name</th>\n      <th>start station latitude</th>\n      <th>start station longitude</th>\n      <th>end station id</th>\n      <th>end station name</th>\n      <th>end station latitude</th>\n      <th>end station longitude</th>\n    </tr>\n  </thead>\n  <tbody>\n    <tr>\n      <th>0</th>\n      <td>72.0</td>\n      <td>W 52 St &amp; 11 Ave</td>\n      <td>40.767272</td>\n      <td>-73.993929</td>\n      <td>505.0</td>\n      <td>6 Ave &amp; W 33 St</td>\n      <td>40.749013</td>\n      <td>-73.988484</td>\n    </tr>\n    <tr>\n      <th>1</th>\n      <td>72.0</td>\n      <td>W 52 St &amp; 11 Ave</td>\n      <td>40.767272</td>\n      <td>-73.993929</td>\n      <td>3255.0</td>\n      <td>8 Ave &amp; W 31 St</td>\n      <td>40.750585</td>\n      <td>-73.994685</td>\n    </tr>\n    <tr>\n      <th>2</th>\n      <td>72.0</td>\n      <td>W 52 St &amp; 11 Ave</td>\n      <td>40.767272</td>\n      <td>-73.993929</td>\n      <td>525.0</td>\n      <td>W 34 St &amp; 11 Ave</td>\n      <td>40.755942</td>\n      <td>-74.002116</td>\n    </tr>\n    <tr>\n      <th>3</th>\n      <td>72.0</td>\n      <td>W 52 St &amp; 11 Ave</td>\n      <td>40.767272</td>\n      <td>-73.993929</td>\n      <td>447.0</td>\n      <td>8 Ave &amp; W 52 St</td>\n      <td>40.763707</td>\n      <td>-73.985162</td>\n    </tr>\n    <tr>\n      <th>4</th>\n      <td>72.0</td>\n      <td>W 52 St &amp; 11 Ave</td>\n      <td>40.767272</td>\n      <td>-73.993929</td>\n      <td>3356.0</td>\n      <td>Amsterdam Ave &amp; W 66 St</td>\n      <td>40.774667</td>\n      <td>-73.984706</td>\n    </tr>\n    <tr>\n      <th>...</th>\n      <td>...</td>\n      <td>...</td>\n      <td>...</td>\n      <td>...</td>\n      <td>...</td>\n      <td>...</td>\n      <td>...</td>\n      <td>...</td>\n    </tr>\n    <tr>\n      <th>1244</th>\n      <td>4203.0</td>\n      <td>Westchester Ave &amp; Southern Blvd</td>\n      <td>40.824956</td>\n      <td>-73.891677</td>\n      <td>4184.0</td>\n      <td>Southern Blvd &amp; E 174 St</td>\n      <td>40.836733</td>\n      <td>-73.887931</td>\n    </tr>\n    <tr>\n      <th>1245</th>\n      <td>3572.0</td>\n      <td>34 Ave &amp; 38 St</td>\n      <td>40.756913</td>\n      <td>-73.921631</td>\n      <td>4306.0</td>\n      <td>35 St &amp; 23 Ave</td>\n      <td>40.773015</td>\n      <td>-73.911190</td>\n    </tr>\n    <tr>\n      <th>1246</th>\n      <td>3518.0</td>\n      <td>Lenox Ave &amp; W 126 St</td>\n      <td>40.808442</td>\n      <td>-73.945209</td>\n      <td>4328.0</td>\n      <td>W 167 St &amp; St. Nicholas Ave</td>\n      <td>40.840124</td>\n      <td>-73.939490</td>\n    </tr>\n    <tr>\n      <th>1247</th>\n      <td>3605.0</td>\n      <td>31 Ave &amp; Crescent St</td>\n      <td>40.765835</td>\n      <td>-73.926547</td>\n      <td>4310.0</td>\n      <td>24 St &amp; 38 Ave</td>\n      <td>40.756351</td>\n      <td>-73.936515</td>\n    </tr>\n    <tr>\n      <th>1248</th>\n      <td>4128.0</td>\n      <td>College Ave &amp; E 170 St</td>\n      <td>40.837576</td>\n      <td>-73.910489</td>\n      <td>4332.0</td>\n      <td>Morris Ave &amp; E 163 St</td>\n      <td>40.827230</td>\n      <td>-73.917656</td>\n    </tr>\n  </tbody>\n</table>\n<p>3074 rows × 8 columns</p>\n</div>"
     },
     "metadata": {},
     "execution_count": 4
    }
   ],
   "source": [
    "station_list = pd.concat([stations_2018, stations_2019, stations_2020])\n",
    "station_list"
   ]
  },
  {
   "cell_type": "code",
   "execution_count": 5,
   "metadata": {},
   "outputs": [
    {
     "output_type": "execute_result",
     "data": {
      "text/plain": [
       "884"
      ]
     },
     "metadata": {},
     "execution_count": 5
    }
   ],
   "source": [
    "start_station_ct = len(station_list['start station id'].unique())\n",
    "start_station_ct"
   ]
  },
  {
   "cell_type": "code",
   "execution_count": 6,
   "metadata": {},
   "outputs": [
    {
     "output_type": "execute_result",
     "data": {
      "text/plain": [
       "1353"
      ]
     },
     "metadata": {},
     "execution_count": 6
    }
   ],
   "source": [
    "end_station_ct = len(station_list['end station id'].unique())\n",
    "end_station_ct"
   ]
  },
  {
   "cell_type": "code",
   "execution_count": 7,
   "metadata": {},
   "outputs": [
    {
     "output_type": "execute_result",
     "data": {
      "text/plain": [
       "      end station id             end station name  end station latitude  \\\n",
       "0              505.0              6 Ave & W 33 St             40.749013   \n",
       "1             3255.0              8 Ave & W 31 St             40.750585   \n",
       "2              525.0             W 34 St & 11 Ave             40.755942   \n",
       "3              447.0              8 Ave & W 52 St             40.763707   \n",
       "4             3356.0      Amsterdam Ave & W 66 St             40.774667   \n",
       "...              ...                          ...                   ...   \n",
       "1244          4184.0     Southern Blvd & E 174 St             40.836733   \n",
       "1245          4306.0               35 St & 23 Ave             40.773015   \n",
       "1246          4328.0  W 167 St & St. Nicholas Ave             40.840124   \n",
       "1247          4310.0               24 St & 38 Ave             40.756351   \n",
       "1248          4332.0        Morris Ave & E 163 St             40.827230   \n",
       "\n",
       "      end station longitude  \n",
       "0                -73.988484  \n",
       "1                -73.994685  \n",
       "2                -74.002116  \n",
       "3                -73.985162  \n",
       "4                -73.984706  \n",
       "...                     ...  \n",
       "1244             -73.887931  \n",
       "1245             -73.911190  \n",
       "1246             -73.939490  \n",
       "1247             -73.936515  \n",
       "1248             -73.917656  \n",
       "\n",
       "[3074 rows x 4 columns]"
      ],
      "text/html": "<div>\n<style scoped>\n    .dataframe tbody tr th:only-of-type {\n        vertical-align: middle;\n    }\n\n    .dataframe tbody tr th {\n        vertical-align: top;\n    }\n\n    .dataframe thead th {\n        text-align: right;\n    }\n</style>\n<table border=\"1\" class=\"dataframe\">\n  <thead>\n    <tr style=\"text-align: right;\">\n      <th></th>\n      <th>end station id</th>\n      <th>end station name</th>\n      <th>end station latitude</th>\n      <th>end station longitude</th>\n    </tr>\n  </thead>\n  <tbody>\n    <tr>\n      <th>0</th>\n      <td>505.0</td>\n      <td>6 Ave &amp; W 33 St</td>\n      <td>40.749013</td>\n      <td>-73.988484</td>\n    </tr>\n    <tr>\n      <th>1</th>\n      <td>3255.0</td>\n      <td>8 Ave &amp; W 31 St</td>\n      <td>40.750585</td>\n      <td>-73.994685</td>\n    </tr>\n    <tr>\n      <th>2</th>\n      <td>525.0</td>\n      <td>W 34 St &amp; 11 Ave</td>\n      <td>40.755942</td>\n      <td>-74.002116</td>\n    </tr>\n    <tr>\n      <th>3</th>\n      <td>447.0</td>\n      <td>8 Ave &amp; W 52 St</td>\n      <td>40.763707</td>\n      <td>-73.985162</td>\n    </tr>\n    <tr>\n      <th>4</th>\n      <td>3356.0</td>\n      <td>Amsterdam Ave &amp; W 66 St</td>\n      <td>40.774667</td>\n      <td>-73.984706</td>\n    </tr>\n    <tr>\n      <th>...</th>\n      <td>...</td>\n      <td>...</td>\n      <td>...</td>\n      <td>...</td>\n    </tr>\n    <tr>\n      <th>1244</th>\n      <td>4184.0</td>\n      <td>Southern Blvd &amp; E 174 St</td>\n      <td>40.836733</td>\n      <td>-73.887931</td>\n    </tr>\n    <tr>\n      <th>1245</th>\n      <td>4306.0</td>\n      <td>35 St &amp; 23 Ave</td>\n      <td>40.773015</td>\n      <td>-73.911190</td>\n    </tr>\n    <tr>\n      <th>1246</th>\n      <td>4328.0</td>\n      <td>W 167 St &amp; St. Nicholas Ave</td>\n      <td>40.840124</td>\n      <td>-73.939490</td>\n    </tr>\n    <tr>\n      <th>1247</th>\n      <td>4310.0</td>\n      <td>24 St &amp; 38 Ave</td>\n      <td>40.756351</td>\n      <td>-73.936515</td>\n    </tr>\n    <tr>\n      <th>1248</th>\n      <td>4332.0</td>\n      <td>Morris Ave &amp; E 163 St</td>\n      <td>40.827230</td>\n      <td>-73.917656</td>\n    </tr>\n  </tbody>\n</table>\n<p>3074 rows × 4 columns</p>\n</div>"
     },
     "metadata": {},
     "execution_count": 7
    }
   ],
   "source": [
    "end_stations = station_list.iloc[:,[4,5,6,7]]\n",
    "end_stations"
   ]
  },
  {
   "cell_type": "code",
   "execution_count": 8,
   "metadata": {},
   "outputs": [
    {
     "output_type": "execute_result",
     "data": {
      "text/plain": [
       "      end station id             end station name  end station latitude  \\\n",
       "0              505.0              6 Ave & W 33 St             40.749013   \n",
       "1             3255.0              8 Ave & W 31 St             40.750585   \n",
       "2              525.0             W 34 St & 11 Ave             40.755942   \n",
       "3              447.0              8 Ave & W 52 St             40.763707   \n",
       "4             3356.0      Amsterdam Ave & W 66 St             40.774667   \n",
       "...              ...                          ...                   ...   \n",
       "1244          4184.0     Southern Blvd & E 174 St             40.836733   \n",
       "1245          4306.0               35 St & 23 Ave             40.773015   \n",
       "1246          4328.0  W 167 St & St. Nicholas Ave             40.840124   \n",
       "1247          4310.0               24 St & 38 Ave             40.756351   \n",
       "1248          4332.0        Morris Ave & E 163 St             40.827230   \n",
       "\n",
       "      end station longitude  \n",
       "0                -73.988484  \n",
       "1                -73.994685  \n",
       "2                -74.002116  \n",
       "3                -73.985162  \n",
       "4                -73.984706  \n",
       "...                     ...  \n",
       "1244             -73.887931  \n",
       "1245             -73.911190  \n",
       "1246             -73.939490  \n",
       "1247             -73.936515  \n",
       "1248             -73.917656  \n",
       "\n",
       "[1374 rows x 4 columns]"
      ],
      "text/html": "<div>\n<style scoped>\n    .dataframe tbody tr th:only-of-type {\n        vertical-align: middle;\n    }\n\n    .dataframe tbody tr th {\n        vertical-align: top;\n    }\n\n    .dataframe thead th {\n        text-align: right;\n    }\n</style>\n<table border=\"1\" class=\"dataframe\">\n  <thead>\n    <tr style=\"text-align: right;\">\n      <th></th>\n      <th>end station id</th>\n      <th>end station name</th>\n      <th>end station latitude</th>\n      <th>end station longitude</th>\n    </tr>\n  </thead>\n  <tbody>\n    <tr>\n      <th>0</th>\n      <td>505.0</td>\n      <td>6 Ave &amp; W 33 St</td>\n      <td>40.749013</td>\n      <td>-73.988484</td>\n    </tr>\n    <tr>\n      <th>1</th>\n      <td>3255.0</td>\n      <td>8 Ave &amp; W 31 St</td>\n      <td>40.750585</td>\n      <td>-73.994685</td>\n    </tr>\n    <tr>\n      <th>2</th>\n      <td>525.0</td>\n      <td>W 34 St &amp; 11 Ave</td>\n      <td>40.755942</td>\n      <td>-74.002116</td>\n    </tr>\n    <tr>\n      <th>3</th>\n      <td>447.0</td>\n      <td>8 Ave &amp; W 52 St</td>\n      <td>40.763707</td>\n      <td>-73.985162</td>\n    </tr>\n    <tr>\n      <th>4</th>\n      <td>3356.0</td>\n      <td>Amsterdam Ave &amp; W 66 St</td>\n      <td>40.774667</td>\n      <td>-73.984706</td>\n    </tr>\n    <tr>\n      <th>...</th>\n      <td>...</td>\n      <td>...</td>\n      <td>...</td>\n      <td>...</td>\n    </tr>\n    <tr>\n      <th>1244</th>\n      <td>4184.0</td>\n      <td>Southern Blvd &amp; E 174 St</td>\n      <td>40.836733</td>\n      <td>-73.887931</td>\n    </tr>\n    <tr>\n      <th>1245</th>\n      <td>4306.0</td>\n      <td>35 St &amp; 23 Ave</td>\n      <td>40.773015</td>\n      <td>-73.911190</td>\n    </tr>\n    <tr>\n      <th>1246</th>\n      <td>4328.0</td>\n      <td>W 167 St &amp; St. Nicholas Ave</td>\n      <td>40.840124</td>\n      <td>-73.939490</td>\n    </tr>\n    <tr>\n      <th>1247</th>\n      <td>4310.0</td>\n      <td>24 St &amp; 38 Ave</td>\n      <td>40.756351</td>\n      <td>-73.936515</td>\n    </tr>\n    <tr>\n      <th>1248</th>\n      <td>4332.0</td>\n      <td>Morris Ave &amp; E 163 St</td>\n      <td>40.827230</td>\n      <td>-73.917656</td>\n    </tr>\n  </tbody>\n</table>\n<p>1374 rows × 4 columns</p>\n</div>"
     },
     "metadata": {},
     "execution_count": 8
    }
   ],
   "source": [
    "unique_stations = end_stations.drop_duplicates(keep='first', inplace=False)\n",
    "unique_stations"
   ]
  },
  {
   "cell_type": "code",
   "execution_count": 9,
   "metadata": {},
   "outputs": [
    {
     "output_type": "execute_result",
     "data": {
      "text/plain": [
       "      station id                 station name        lat       long\n",
       "0          505.0              6 Ave & W 33 St  40.749013 -73.988484\n",
       "1         3255.0              8 Ave & W 31 St  40.750585 -73.994685\n",
       "2          525.0             W 34 St & 11 Ave  40.755942 -74.002116\n",
       "3          447.0              8 Ave & W 52 St  40.763707 -73.985162\n",
       "4         3356.0      Amsterdam Ave & W 66 St  40.774667 -73.984706\n",
       "...          ...                          ...        ...        ...\n",
       "1244      4184.0     Southern Blvd & E 174 St  40.836733 -73.887931\n",
       "1245      4306.0               35 St & 23 Ave  40.773015 -73.911190\n",
       "1246      4328.0  W 167 St & St. Nicholas Ave  40.840124 -73.939490\n",
       "1247      4310.0               24 St & 38 Ave  40.756351 -73.936515\n",
       "1248      4332.0        Morris Ave & E 163 St  40.827230 -73.917656\n",
       "\n",
       "[1374 rows x 4 columns]"
      ],
      "text/html": "<div>\n<style scoped>\n    .dataframe tbody tr th:only-of-type {\n        vertical-align: middle;\n    }\n\n    .dataframe tbody tr th {\n        vertical-align: top;\n    }\n\n    .dataframe thead th {\n        text-align: right;\n    }\n</style>\n<table border=\"1\" class=\"dataframe\">\n  <thead>\n    <tr style=\"text-align: right;\">\n      <th></th>\n      <th>station id</th>\n      <th>station name</th>\n      <th>lat</th>\n      <th>long</th>\n    </tr>\n  </thead>\n  <tbody>\n    <tr>\n      <th>0</th>\n      <td>505.0</td>\n      <td>6 Ave &amp; W 33 St</td>\n      <td>40.749013</td>\n      <td>-73.988484</td>\n    </tr>\n    <tr>\n      <th>1</th>\n      <td>3255.0</td>\n      <td>8 Ave &amp; W 31 St</td>\n      <td>40.750585</td>\n      <td>-73.994685</td>\n    </tr>\n    <tr>\n      <th>2</th>\n      <td>525.0</td>\n      <td>W 34 St &amp; 11 Ave</td>\n      <td>40.755942</td>\n      <td>-74.002116</td>\n    </tr>\n    <tr>\n      <th>3</th>\n      <td>447.0</td>\n      <td>8 Ave &amp; W 52 St</td>\n      <td>40.763707</td>\n      <td>-73.985162</td>\n    </tr>\n    <tr>\n      <th>4</th>\n      <td>3356.0</td>\n      <td>Amsterdam Ave &amp; W 66 St</td>\n      <td>40.774667</td>\n      <td>-73.984706</td>\n    </tr>\n    <tr>\n      <th>...</th>\n      <td>...</td>\n      <td>...</td>\n      <td>...</td>\n      <td>...</td>\n    </tr>\n    <tr>\n      <th>1244</th>\n      <td>4184.0</td>\n      <td>Southern Blvd &amp; E 174 St</td>\n      <td>40.836733</td>\n      <td>-73.887931</td>\n    </tr>\n    <tr>\n      <th>1245</th>\n      <td>4306.0</td>\n      <td>35 St &amp; 23 Ave</td>\n      <td>40.773015</td>\n      <td>-73.911190</td>\n    </tr>\n    <tr>\n      <th>1246</th>\n      <td>4328.0</td>\n      <td>W 167 St &amp; St. Nicholas Ave</td>\n      <td>40.840124</td>\n      <td>-73.939490</td>\n    </tr>\n    <tr>\n      <th>1247</th>\n      <td>4310.0</td>\n      <td>24 St &amp; 38 Ave</td>\n      <td>40.756351</td>\n      <td>-73.936515</td>\n    </tr>\n    <tr>\n      <th>1248</th>\n      <td>4332.0</td>\n      <td>Morris Ave &amp; E 163 St</td>\n      <td>40.827230</td>\n      <td>-73.917656</td>\n    </tr>\n  </tbody>\n</table>\n<p>1374 rows × 4 columns</p>\n</div>"
     },
     "metadata": {},
     "execution_count": 9
    }
   ],
   "source": [
    "unique_stations.columns = ['station id', 'station name', 'lat', 'long']\n",
    "unique_stations"
   ]
  },
  {
   "cell_type": "code",
   "execution_count": 10,
   "metadata": {},
   "outputs": [
    {
     "output_type": "execute_result",
     "data": {
      "text/plain": [
       "      station id                   station name        lat       long\n",
       "43          72.0               W 52 St & 11 Ave  40.767272 -73.993929\n",
       "238         79.0       Franklin St & W Broadway  40.719116 -74.006667\n",
       "280         82.0         St James Pl & Pearl St  40.711174 -74.000165\n",
       "389         83.0  Atlantic Ave & Fort Greene Pl  40.683826 -73.976323\n",
       "832        116.0                W 17 St & 8 Ave  40.741776 -74.001497\n",
       "...          ...                            ...        ...        ...\n",
       "1240      4311.0            8 St & Astoria Blvd  40.772600 -73.932663\n",
       "1246      4328.0    W 167 St & St. Nicholas Ave  40.840124 -73.939490\n",
       "1248      4332.0          Morris Ave & E 163 St  40.827230 -73.917656\n",
       "831          NaN                            NaN  40.857000 -73.890000\n",
       "765          NaN                            NaN  40.857000 -73.881000\n",
       "\n",
       "[1374 rows x 4 columns]"
      ],
      "text/html": "<div>\n<style scoped>\n    .dataframe tbody tr th:only-of-type {\n        vertical-align: middle;\n    }\n\n    .dataframe tbody tr th {\n        vertical-align: top;\n    }\n\n    .dataframe thead th {\n        text-align: right;\n    }\n</style>\n<table border=\"1\" class=\"dataframe\">\n  <thead>\n    <tr style=\"text-align: right;\">\n      <th></th>\n      <th>station id</th>\n      <th>station name</th>\n      <th>lat</th>\n      <th>long</th>\n    </tr>\n  </thead>\n  <tbody>\n    <tr>\n      <th>43</th>\n      <td>72.0</td>\n      <td>W 52 St &amp; 11 Ave</td>\n      <td>40.767272</td>\n      <td>-73.993929</td>\n    </tr>\n    <tr>\n      <th>238</th>\n      <td>79.0</td>\n      <td>Franklin St &amp; W Broadway</td>\n      <td>40.719116</td>\n      <td>-74.006667</td>\n    </tr>\n    <tr>\n      <th>280</th>\n      <td>82.0</td>\n      <td>St James Pl &amp; Pearl St</td>\n      <td>40.711174</td>\n      <td>-74.000165</td>\n    </tr>\n    <tr>\n      <th>389</th>\n      <td>83.0</td>\n      <td>Atlantic Ave &amp; Fort Greene Pl</td>\n      <td>40.683826</td>\n      <td>-73.976323</td>\n    </tr>\n    <tr>\n      <th>832</th>\n      <td>116.0</td>\n      <td>W 17 St &amp; 8 Ave</td>\n      <td>40.741776</td>\n      <td>-74.001497</td>\n    </tr>\n    <tr>\n      <th>...</th>\n      <td>...</td>\n      <td>...</td>\n      <td>...</td>\n      <td>...</td>\n    </tr>\n    <tr>\n      <th>1240</th>\n      <td>4311.0</td>\n      <td>8 St &amp; Astoria Blvd</td>\n      <td>40.772600</td>\n      <td>-73.932663</td>\n    </tr>\n    <tr>\n      <th>1246</th>\n      <td>4328.0</td>\n      <td>W 167 St &amp; St. Nicholas Ave</td>\n      <td>40.840124</td>\n      <td>-73.939490</td>\n    </tr>\n    <tr>\n      <th>1248</th>\n      <td>4332.0</td>\n      <td>Morris Ave &amp; E 163 St</td>\n      <td>40.827230</td>\n      <td>-73.917656</td>\n    </tr>\n    <tr>\n      <th>831</th>\n      <td>NaN</td>\n      <td>NaN</td>\n      <td>40.857000</td>\n      <td>-73.890000</td>\n    </tr>\n    <tr>\n      <th>765</th>\n      <td>NaN</td>\n      <td>NaN</td>\n      <td>40.857000</td>\n      <td>-73.881000</td>\n    </tr>\n  </tbody>\n</table>\n<p>1374 rows × 4 columns</p>\n</div>"
     },
     "metadata": {},
     "execution_count": 10
    }
   ],
   "source": [
    "unique_stations = unique_stations.sort_values(by=['station id'], ascending=True)\n",
    "unique_stations"
   ]
  },
  {
   "cell_type": "code",
   "execution_count": 11,
   "metadata": {},
   "outputs": [
    {
     "output_type": "execute_result",
     "data": {
      "text/plain": [
       "      station id                   station name        lat       long\n",
       "43          72.0               W 52 St & 11 Ave  40.767272 -73.993929\n",
       "238         79.0       Franklin St & W Broadway  40.719116 -74.006667\n",
       "280         82.0         St James Pl & Pearl St  40.711174 -74.000165\n",
       "389         83.0  Atlantic Ave & Fort Greene Pl  40.683826 -73.976323\n",
       "832        116.0                W 17 St & 8 Ave  40.741776 -74.001497\n",
       "...          ...                            ...        ...        ...\n",
       "1242      4309.0                 18 St & 27 Ave  40.772768 -73.927436\n",
       "1247      4310.0                 24 St & 38 Ave  40.756351 -73.936515\n",
       "1240      4311.0            8 St & Astoria Blvd  40.772600 -73.932663\n",
       "1246      4328.0    W 167 St & St. Nicholas Ave  40.840124 -73.939490\n",
       "1248      4332.0          Morris Ave & E 163 St  40.827230 -73.917656\n",
       "\n",
       "[1372 rows x 4 columns]"
      ],
      "text/html": "<div>\n<style scoped>\n    .dataframe tbody tr th:only-of-type {\n        vertical-align: middle;\n    }\n\n    .dataframe tbody tr th {\n        vertical-align: top;\n    }\n\n    .dataframe thead th {\n        text-align: right;\n    }\n</style>\n<table border=\"1\" class=\"dataframe\">\n  <thead>\n    <tr style=\"text-align: right;\">\n      <th></th>\n      <th>station id</th>\n      <th>station name</th>\n      <th>lat</th>\n      <th>long</th>\n    </tr>\n  </thead>\n  <tbody>\n    <tr>\n      <th>43</th>\n      <td>72.0</td>\n      <td>W 52 St &amp; 11 Ave</td>\n      <td>40.767272</td>\n      <td>-73.993929</td>\n    </tr>\n    <tr>\n      <th>238</th>\n      <td>79.0</td>\n      <td>Franklin St &amp; W Broadway</td>\n      <td>40.719116</td>\n      <td>-74.006667</td>\n    </tr>\n    <tr>\n      <th>280</th>\n      <td>82.0</td>\n      <td>St James Pl &amp; Pearl St</td>\n      <td>40.711174</td>\n      <td>-74.000165</td>\n    </tr>\n    <tr>\n      <th>389</th>\n      <td>83.0</td>\n      <td>Atlantic Ave &amp; Fort Greene Pl</td>\n      <td>40.683826</td>\n      <td>-73.976323</td>\n    </tr>\n    <tr>\n      <th>832</th>\n      <td>116.0</td>\n      <td>W 17 St &amp; 8 Ave</td>\n      <td>40.741776</td>\n      <td>-74.001497</td>\n    </tr>\n    <tr>\n      <th>...</th>\n      <td>...</td>\n      <td>...</td>\n      <td>...</td>\n      <td>...</td>\n    </tr>\n    <tr>\n      <th>1242</th>\n      <td>4309.0</td>\n      <td>18 St &amp; 27 Ave</td>\n      <td>40.772768</td>\n      <td>-73.927436</td>\n    </tr>\n    <tr>\n      <th>1247</th>\n      <td>4310.0</td>\n      <td>24 St &amp; 38 Ave</td>\n      <td>40.756351</td>\n      <td>-73.936515</td>\n    </tr>\n    <tr>\n      <th>1240</th>\n      <td>4311.0</td>\n      <td>8 St &amp; Astoria Blvd</td>\n      <td>40.772600</td>\n      <td>-73.932663</td>\n    </tr>\n    <tr>\n      <th>1246</th>\n      <td>4328.0</td>\n      <td>W 167 St &amp; St. Nicholas Ave</td>\n      <td>40.840124</td>\n      <td>-73.939490</td>\n    </tr>\n    <tr>\n      <th>1248</th>\n      <td>4332.0</td>\n      <td>Morris Ave &amp; E 163 St</td>\n      <td>40.827230</td>\n      <td>-73.917656</td>\n    </tr>\n  </tbody>\n</table>\n<p>1372 rows × 4 columns</p>\n</div>"
     },
     "metadata": {},
     "execution_count": 11
    }
   ],
   "source": [
    "unique_stations = unique_stations[unique_stations['station id'].notna()]\n",
    "unique_stations"
   ]
  },
  {
   "cell_type": "code",
   "execution_count": 13,
   "metadata": {},
   "outputs": [
    {
     "output_type": "execute_result",
     "data": {
      "text/plain": [
       "      station id                   station name        lat       long\n",
       "43          72.0               W 52 St & 11 Ave  40.767272 -73.993929\n",
       "238         79.0       Franklin St & W Broadway  40.719116 -74.006667\n",
       "280         82.0         St James Pl & Pearl St  40.711174 -74.000165\n",
       "389         83.0  Atlantic Ave & Fort Greene Pl  40.683826 -73.976323\n",
       "832        116.0                W 17 St & 8 Ave  40.741776 -74.001497\n",
       "...          ...                            ...        ...        ...\n",
       "1242      4309.0                 18 St & 27 Ave  40.772768 -73.927436\n",
       "1247      4310.0                 24 St & 38 Ave  40.756351 -73.936515\n",
       "1240      4311.0            8 St & Astoria Blvd  40.772600 -73.932663\n",
       "1246      4328.0    W 167 St & St. Nicholas Ave  40.840124 -73.939490\n",
       "1248      4332.0          Morris Ave & E 163 St  40.827230 -73.917656\n",
       "\n",
       "[1370 rows x 4 columns]"
      ],
      "text/html": "<div>\n<style scoped>\n    .dataframe tbody tr th:only-of-type {\n        vertical-align: middle;\n    }\n\n    .dataframe tbody tr th {\n        vertical-align: top;\n    }\n\n    .dataframe thead th {\n        text-align: right;\n    }\n</style>\n<table border=\"1\" class=\"dataframe\">\n  <thead>\n    <tr style=\"text-align: right;\">\n      <th></th>\n      <th>station id</th>\n      <th>station name</th>\n      <th>lat</th>\n      <th>long</th>\n    </tr>\n  </thead>\n  <tbody>\n    <tr>\n      <th>43</th>\n      <td>72.0</td>\n      <td>W 52 St &amp; 11 Ave</td>\n      <td>40.767272</td>\n      <td>-73.993929</td>\n    </tr>\n    <tr>\n      <th>238</th>\n      <td>79.0</td>\n      <td>Franklin St &amp; W Broadway</td>\n      <td>40.719116</td>\n      <td>-74.006667</td>\n    </tr>\n    <tr>\n      <th>280</th>\n      <td>82.0</td>\n      <td>St James Pl &amp; Pearl St</td>\n      <td>40.711174</td>\n      <td>-74.000165</td>\n    </tr>\n    <tr>\n      <th>389</th>\n      <td>83.0</td>\n      <td>Atlantic Ave &amp; Fort Greene Pl</td>\n      <td>40.683826</td>\n      <td>-73.976323</td>\n    </tr>\n    <tr>\n      <th>832</th>\n      <td>116.0</td>\n      <td>W 17 St &amp; 8 Ave</td>\n      <td>40.741776</td>\n      <td>-74.001497</td>\n    </tr>\n    <tr>\n      <th>...</th>\n      <td>...</td>\n      <td>...</td>\n      <td>...</td>\n      <td>...</td>\n    </tr>\n    <tr>\n      <th>1242</th>\n      <td>4309.0</td>\n      <td>18 St &amp; 27 Ave</td>\n      <td>40.772768</td>\n      <td>-73.927436</td>\n    </tr>\n    <tr>\n      <th>1247</th>\n      <td>4310.0</td>\n      <td>24 St &amp; 38 Ave</td>\n      <td>40.756351</td>\n      <td>-73.936515</td>\n    </tr>\n    <tr>\n      <th>1240</th>\n      <td>4311.0</td>\n      <td>8 St &amp; Astoria Blvd</td>\n      <td>40.772600</td>\n      <td>-73.932663</td>\n    </tr>\n    <tr>\n      <th>1246</th>\n      <td>4328.0</td>\n      <td>W 167 St &amp; St. Nicholas Ave</td>\n      <td>40.840124</td>\n      <td>-73.939490</td>\n    </tr>\n    <tr>\n      <th>1248</th>\n      <td>4332.0</td>\n      <td>Morris Ave &amp; E 163 St</td>\n      <td>40.827230</td>\n      <td>-73.917656</td>\n    </tr>\n  </tbody>\n</table>\n<p>1370 rows × 4 columns</p>\n</div>"
     },
     "metadata": {},
     "execution_count": 13
    }
   ],
   "source": [
    "clean_stations = unique_stations.loc[(unique_stations['station id']!=3650.0)&(unique_stations['station id']!=3488.0)]\n",
    "clean_stations\n",
    "\n",
    "# problem_stations = unique_stations.loc[unique_stations['station id']==3650.0]\n",
    "# problem_stations"
   ]
  },
  {
   "cell_type": "code",
   "execution_count": 14,
   "metadata": {},
   "outputs": [],
   "source": [
    "clean_stations.to_csv(\"data/station_list_18_20.csv\", index=False)"
   ]
  },
  {
   "cell_type": "code",
   "execution_count": null,
   "metadata": {},
   "outputs": [],
   "source": []
  }
 ]
}